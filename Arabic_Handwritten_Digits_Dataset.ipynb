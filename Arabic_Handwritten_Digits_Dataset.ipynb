{
  "nbformat": 4,
  "nbformat_minor": 0,
  "metadata": {
    "colab": {
      "provenance": []
    },
    "kernelspec": {
      "name": "python3",
      "display_name": "Python 3"
    },
    "language_info": {
      "name": "python"
    },
    "accelerator": "GPU",
    "gpuClass": "standard"
  },
  "cells": [
    {
      "cell_type": "code",
      "execution_count": 13,
      "metadata": {
        "id": "ouU4J3tbjiMl"
      },
      "outputs": [],
      "source": [
        "import pandas as pd\n",
        "import numpy as np\n",
        "import matplotlib.pyplot as plt\n",
        "import matplotlib.image as mpimg\n",
        "import seaborn as sns\n",
        "%matplotlib inline\n",
        "\n",
        "np.random.seed(2)\n",
        "\n",
        "from sklearn.model_selection import train_test_split\n",
        "from sklearn.metrics import confusion_matrix\n",
        "import itertools\n",
        "\n",
        "from keras.utils.np_utils import to_categorical # convert to one-hot-encoding\n",
        "from keras.models import Sequential\n",
        "from keras.layers import Dense, Dropout, Flatten, Conv2D, MaxPool2D\n",
        "from tensorflow.keras.optimizers import SGD,RMSprop\n",
        "from keras.preprocessing.image import ImageDataGenerator\n",
        "from keras.callbacks import ReduceLROnPlateau\n",
        "from keras.datasets import mnist\n",
        "\n",
        "sns.set(style='white', context='notebook', palette='deep')"
      ]
    },
    {
      "cell_type": "code",
      "source": [
        "! pip install -q kaggle\n",
        "from google.colab import files\n",
        "files.upload()"
      ],
      "metadata": {
        "colab": {
          "base_uri": "https://localhost:8080/",
          "height": 90
        },
        "id": "cww86nuBk_4r",
        "outputId": "bd16d83b-b4be-4c1d-80e8-07c9d1ddff56"
      },
      "execution_count": 2,
      "outputs": [
        {
          "output_type": "display_data",
          "data": {
            "text/plain": [
              "<IPython.core.display.HTML object>"
            ],
            "text/html": [
              "\n",
              "     <input type=\"file\" id=\"files-1b214358-e688-4fbb-8d39-c826b938a0bd\" name=\"files[]\" multiple disabled\n",
              "        style=\"border:none\" />\n",
              "     <output id=\"result-1b214358-e688-4fbb-8d39-c826b938a0bd\">\n",
              "      Upload widget is only available when the cell has been executed in the\n",
              "      current browser session. Please rerun this cell to enable.\n",
              "      </output>\n",
              "      <script>// Copyright 2017 Google LLC\n",
              "//\n",
              "// Licensed under the Apache License, Version 2.0 (the \"License\");\n",
              "// you may not use this file except in compliance with the License.\n",
              "// You may obtain a copy of the License at\n",
              "//\n",
              "//      http://www.apache.org/licenses/LICENSE-2.0\n",
              "//\n",
              "// Unless required by applicable law or agreed to in writing, software\n",
              "// distributed under the License is distributed on an \"AS IS\" BASIS,\n",
              "// WITHOUT WARRANTIES OR CONDITIONS OF ANY KIND, either express or implied.\n",
              "// See the License for the specific language governing permissions and\n",
              "// limitations under the License.\n",
              "\n",
              "/**\n",
              " * @fileoverview Helpers for google.colab Python module.\n",
              " */\n",
              "(function(scope) {\n",
              "function span(text, styleAttributes = {}) {\n",
              "  const element = document.createElement('span');\n",
              "  element.textContent = text;\n",
              "  for (const key of Object.keys(styleAttributes)) {\n",
              "    element.style[key] = styleAttributes[key];\n",
              "  }\n",
              "  return element;\n",
              "}\n",
              "\n",
              "// Max number of bytes which will be uploaded at a time.\n",
              "const MAX_PAYLOAD_SIZE = 100 * 1024;\n",
              "\n",
              "function _uploadFiles(inputId, outputId) {\n",
              "  const steps = uploadFilesStep(inputId, outputId);\n",
              "  const outputElement = document.getElementById(outputId);\n",
              "  // Cache steps on the outputElement to make it available for the next call\n",
              "  // to uploadFilesContinue from Python.\n",
              "  outputElement.steps = steps;\n",
              "\n",
              "  return _uploadFilesContinue(outputId);\n",
              "}\n",
              "\n",
              "// This is roughly an async generator (not supported in the browser yet),\n",
              "// where there are multiple asynchronous steps and the Python side is going\n",
              "// to poll for completion of each step.\n",
              "// This uses a Promise to block the python side on completion of each step,\n",
              "// then passes the result of the previous step as the input to the next step.\n",
              "function _uploadFilesContinue(outputId) {\n",
              "  const outputElement = document.getElementById(outputId);\n",
              "  const steps = outputElement.steps;\n",
              "\n",
              "  const next = steps.next(outputElement.lastPromiseValue);\n",
              "  return Promise.resolve(next.value.promise).then((value) => {\n",
              "    // Cache the last promise value to make it available to the next\n",
              "    // step of the generator.\n",
              "    outputElement.lastPromiseValue = value;\n",
              "    return next.value.response;\n",
              "  });\n",
              "}\n",
              "\n",
              "/**\n",
              " * Generator function which is called between each async step of the upload\n",
              " * process.\n",
              " * @param {string} inputId Element ID of the input file picker element.\n",
              " * @param {string} outputId Element ID of the output display.\n",
              " * @return {!Iterable<!Object>} Iterable of next steps.\n",
              " */\n",
              "function* uploadFilesStep(inputId, outputId) {\n",
              "  const inputElement = document.getElementById(inputId);\n",
              "  inputElement.disabled = false;\n",
              "\n",
              "  const outputElement = document.getElementById(outputId);\n",
              "  outputElement.innerHTML = '';\n",
              "\n",
              "  const pickedPromise = new Promise((resolve) => {\n",
              "    inputElement.addEventListener('change', (e) => {\n",
              "      resolve(e.target.files);\n",
              "    });\n",
              "  });\n",
              "\n",
              "  const cancel = document.createElement('button');\n",
              "  inputElement.parentElement.appendChild(cancel);\n",
              "  cancel.textContent = 'Cancel upload';\n",
              "  const cancelPromise = new Promise((resolve) => {\n",
              "    cancel.onclick = () => {\n",
              "      resolve(null);\n",
              "    };\n",
              "  });\n",
              "\n",
              "  // Wait for the user to pick the files.\n",
              "  const files = yield {\n",
              "    promise: Promise.race([pickedPromise, cancelPromise]),\n",
              "    response: {\n",
              "      action: 'starting',\n",
              "    }\n",
              "  };\n",
              "\n",
              "  cancel.remove();\n",
              "\n",
              "  // Disable the input element since further picks are not allowed.\n",
              "  inputElement.disabled = true;\n",
              "\n",
              "  if (!files) {\n",
              "    return {\n",
              "      response: {\n",
              "        action: 'complete',\n",
              "      }\n",
              "    };\n",
              "  }\n",
              "\n",
              "  for (const file of files) {\n",
              "    const li = document.createElement('li');\n",
              "    li.append(span(file.name, {fontWeight: 'bold'}));\n",
              "    li.append(span(\n",
              "        `(${file.type || 'n/a'}) - ${file.size} bytes, ` +\n",
              "        `last modified: ${\n",
              "            file.lastModifiedDate ? file.lastModifiedDate.toLocaleDateString() :\n",
              "                                    'n/a'} - `));\n",
              "    const percent = span('0% done');\n",
              "    li.appendChild(percent);\n",
              "\n",
              "    outputElement.appendChild(li);\n",
              "\n",
              "    const fileDataPromise = new Promise((resolve) => {\n",
              "      const reader = new FileReader();\n",
              "      reader.onload = (e) => {\n",
              "        resolve(e.target.result);\n",
              "      };\n",
              "      reader.readAsArrayBuffer(file);\n",
              "    });\n",
              "    // Wait for the data to be ready.\n",
              "    let fileData = yield {\n",
              "      promise: fileDataPromise,\n",
              "      response: {\n",
              "        action: 'continue',\n",
              "      }\n",
              "    };\n",
              "\n",
              "    // Use a chunked sending to avoid message size limits. See b/62115660.\n",
              "    let position = 0;\n",
              "    do {\n",
              "      const length = Math.min(fileData.byteLength - position, MAX_PAYLOAD_SIZE);\n",
              "      const chunk = new Uint8Array(fileData, position, length);\n",
              "      position += length;\n",
              "\n",
              "      const base64 = btoa(String.fromCharCode.apply(null, chunk));\n",
              "      yield {\n",
              "        response: {\n",
              "          action: 'append',\n",
              "          file: file.name,\n",
              "          data: base64,\n",
              "        },\n",
              "      };\n",
              "\n",
              "      let percentDone = fileData.byteLength === 0 ?\n",
              "          100 :\n",
              "          Math.round((position / fileData.byteLength) * 100);\n",
              "      percent.textContent = `${percentDone}% done`;\n",
              "\n",
              "    } while (position < fileData.byteLength);\n",
              "  }\n",
              "\n",
              "  // All done.\n",
              "  yield {\n",
              "    response: {\n",
              "      action: 'complete',\n",
              "    }\n",
              "  };\n",
              "}\n",
              "\n",
              "scope.google = scope.google || {};\n",
              "scope.google.colab = scope.google.colab || {};\n",
              "scope.google.colab._files = {\n",
              "  _uploadFiles,\n",
              "  _uploadFilesContinue,\n",
              "};\n",
              "})(self);\n",
              "</script> "
            ]
          },
          "metadata": {}
        },
        {
          "output_type": "stream",
          "name": "stdout",
          "text": [
            "Saving kaggle.json to kaggle.json\n"
          ]
        },
        {
          "output_type": "execute_result",
          "data": {
            "text/plain": [
              "{'kaggle.json': b'{\"username\":\"mrarray22\",\"key\":\"e5f2190057d9831ec5c135e120b111c8\"}'}"
            ]
          },
          "metadata": {},
          "execution_count": 2
        }
      ]
    },
    {
      "cell_type": "code",
      "source": [
        "! mkdir ~/.kaggle"
      ],
      "metadata": {
        "id": "DCHPe-wNlFpP"
      },
      "execution_count": 3,
      "outputs": []
    },
    {
      "cell_type": "code",
      "source": [
        "! cp kaggle.json ~/.kaggle/\n",
        "! chmod 600 ~/.kaggle/kaggle.json"
      ],
      "metadata": {
        "id": "9cjK_EiSlIDv"
      },
      "execution_count": 4,
      "outputs": []
    },
    {
      "cell_type": "code",
      "source": [
        "! kaggle datasets download -d mloey1/ahdd1"
      ],
      "metadata": {
        "colab": {
          "base_uri": "https://localhost:8080/"
        },
        "id": "4duLVTktla1q",
        "outputId": "6e059ccb-0710-47a0-cf51-c91d5fb907ca"
      },
      "execution_count": 6,
      "outputs": [
        {
          "output_type": "stream",
          "name": "stdout",
          "text": [
            "Downloading ahdd1.zip to /content\n",
            " 89% 45.0M/50.6M [00:00<00:00, 137MB/s]\n",
            "100% 50.6M/50.6M [00:00<00:00, 145MB/s]\n"
          ]
        }
      ]
    },
    {
      "cell_type": "code",
      "source": [
        "! unzip ahdd1.zip"
      ],
      "metadata": {
        "colab": {
          "base_uri": "https://localhost:8080/"
        },
        "id": "985vS51Wll-J",
        "outputId": "3c8e2d5a-a104-44c2-d1b0-7d79cf6d34ce"
      },
      "execution_count": 7,
      "outputs": [
        {
          "output_type": "stream",
          "name": "stdout",
          "text": [
            "Archive:  ahdd1.zip\n",
            "  inflating: Arabic Handwritten Digits Dataset CSV/csvTestImages 10k x 784.csv  \n",
            "  inflating: Arabic Handwritten Digits Dataset CSV/csvTestLabel 10k x 1.csv  \n",
            "  inflating: Arabic Handwritten Digits Dataset CSV/csvTrainImages 60k x 784.csv  \n",
            "  inflating: Arabic Handwritten Digits Dataset CSV/csvTrainLabel 60k x 1.csv  \n",
            "  inflating: Train + Test Matlab.mat  \n",
            "  inflating: csvTestImages 10k x 784.csv  \n",
            "  inflating: csvTestLabel 10k x 1.csv  \n",
            "  inflating: csvTrainImages 60k x 784.csv  \n",
            "  inflating: csvTrainImages 60k x 784/csvTrainImages 60k x 784.csv  \n",
            "  inflating: csvTrainLabel 60k x 1.csv  \n"
          ]
        }
      ]
    },
    {
      "cell_type": "markdown",
      "source": [
        "#Spliting dataSet into training and testing"
      ],
      "metadata": {
        "id": "7JyXZYkCl2C-"
      }
    },
    {
      "cell_type": "code",
      "source": [
        "X_train = pd.read_csv(\"/content/csvTrainImages 60k x 784.csv\")\n",
        "Y_train = pd.read_csv(\"/content/csvTrainLabel 60k x 1.csv\")\n",
        "test = pd.read_csv(\"/content/csvTestImages 10k x 784.csv\")\n",
        "y_test = pd.read_csv(\"/content/csvTestLabel 10k x 1.csv\")"
      ],
      "metadata": {
        "id": "Ne3VFbfBl9Jb"
      },
      "execution_count": 117,
      "outputs": []
    },
    {
      "cell_type": "code",
      "source": [
        "print(X_train.shape)\n",
        "print(Y_train.shape)\n",
        "print(test.shape)\n",
        "print(y_test.shape)"
      ],
      "metadata": {
        "colab": {
          "base_uri": "https://localhost:8080/"
        },
        "id": "t0xgkb4DmUup",
        "outputId": "0b9d4981-e5a4-4202-83f1-aa93ddd859cd"
      },
      "execution_count": 118,
      "outputs": [
        {
          "output_type": "stream",
          "name": "stdout",
          "text": [
            "(59999, 784)\n",
            "(59999, 1)\n",
            "(9999, 784)\n",
            "(9999, 1)\n"
          ]
        }
      ]
    },
    {
      "cell_type": "code",
      "source": [
        "Y_train=Y_train.iloc[:,0]\n",
        "y_test=y_test.iloc[:,0]\n",
        "g = sns.countplot(Y_train)\n",
        "Y_train.value_counts()"
      ],
      "metadata": {
        "colab": {
          "base_uri": "https://localhost:8080/",
          "height": 459
        },
        "id": "2mnJK0altbHX",
        "outputId": "d9bbb9d5-4a29-48aa-92c1-a6177df2653e"
      },
      "execution_count": 119,
      "outputs": [
        {
          "output_type": "execute_result",
          "data": {
            "text/plain": [
              "1    6000\n",
              "2    6000\n",
              "3    6000\n",
              "4    6000\n",
              "5    6000\n",
              "6    6000\n",
              "7    6000\n",
              "8    6000\n",
              "9    6000\n",
              "0    5999\n",
              "Name: 0, dtype: int64"
            ]
          },
          "metadata": {},
          "execution_count": 119
        },
        {
          "output_type": "display_data",
          "data": {
            "text/plain": [
              "<Figure size 432x288 with 1 Axes>"
            ],
            "image/png": "[encoded data removed]"
          },
          "metadata": {}
        }
      ]
    },
    {
      "cell_type": "markdown",
      "source": [
        "#Show some info about training and testing dataset"
      ],
      "metadata": {
        "id": "R55xrAGBngAe"
      }
    },
    {
      "cell_type": "code",
      "source": [
        "X_train.describe()"
      ],
      "metadata": {
        "colab": {
          "base_uri": "https://localhost:8080/",
          "height": 393
        },
        "id": "-qbbJsqanNSQ",
        "outputId": "5a340e92-85fd-47b1-d8df-087138d8cec0"
      },
      "execution_count": 120,
      "outputs": [
        {
          "output_type": "execute_result",
          "data": {
            "text/plain": [
              "             0      0.1      0.2           0.3           0.4           0.5  \\\n",
              "count  59999.0  59999.0  59999.0  59999.000000  59999.000000  59999.000000   \n",
              "mean       0.0      0.0      0.0      0.000017      0.016034      0.057084   \n",
              "std        0.0      0.0      0.0      0.004083      1.540061      3.098098   \n",
              "min        0.0      0.0      0.0      0.000000      0.000000      0.000000   \n",
              "25%        0.0      0.0      0.0      0.000000      0.000000      0.000000   \n",
              "50%        0.0      0.0      0.0      0.000000      0.000000      0.000000   \n",
              "75%        0.0      0.0      0.0      0.000000      0.000000      0.000000   \n",
              "max        0.0      0.0      0.0      1.000000    237.000000    255.000000   \n",
              "\n",
              "                0.6           0.7           0.8           0.9  ...  \\\n",
              "count  59999.000000  59999.000000  59999.000000  59999.000000  ...   \n",
              "mean       0.216570      0.675361      1.072185      0.971450  ...   \n",
              "std        6.047045     10.869691     13.871559     12.833792  ...   \n",
              "min        0.000000      0.000000      0.000000      0.000000  ...   \n",
              "25%        0.000000      0.000000      0.000000      0.000000  ...   \n",
              "50%        0.000000      0.000000      0.000000      0.000000  ...   \n",
              "75%        0.000000      0.000000      0.000000      0.000000  ...   \n",
              "max      255.000000    255.000000    255.000000    255.000000  ...   \n",
              "\n",
              "              0.486        0.487         0.488         0.489         0.490  \\\n",
              "count  59999.000000  59999.00000  59999.000000  59999.000000  59999.000000   \n",
              "mean       0.018600      0.02705      0.054434      0.015817      0.007917   \n",
              "std        1.467819      1.66216      2.874302      1.172126      0.848358   \n",
              "min        0.000000      0.00000      0.000000      0.000000      0.000000   \n",
              "25%        0.000000      0.00000      0.000000      0.000000      0.000000   \n",
              "50%        0.000000      0.00000      0.000000      0.000000      0.000000   \n",
              "75%        0.000000      0.00000      0.000000      0.000000      0.000000   \n",
              "max      179.000000    200.00000    238.000000    154.000000    146.000000   \n",
              "\n",
              "              0.491    0.492    0.493    0.494    0.495  \n",
              "count  59999.000000  59999.0  59999.0  59999.0  59999.0  \n",
              "mean       0.004767      0.0      0.0      0.0      0.0  \n",
              "std        0.752527      0.0      0.0      0.0      0.0  \n",
              "min        0.000000      0.0      0.0      0.0      0.0  \n",
              "25%        0.000000      0.0      0.0      0.0      0.0  \n",
              "50%        0.000000      0.0      0.0      0.0      0.0  \n",
              "75%        0.000000      0.0      0.0      0.0      0.0  \n",
              "max      154.000000      0.0      0.0      0.0      0.0  \n",
              "\n",
              "[8 rows x 784 columns]"
            ],
            "text/html": [
              "\n",
              "  <div id=\"df-fa1c7921-467e-41ca-9e7f-f4f496f92fa5\">\n",
              "    <div class=\"colab-df-container\">\n",
              "      <div>\n",
              "<style scoped>\n",
              "    .dataframe tbody tr th:only-of-type {\n",
              "        vertical-align: middle;\n",
              "    }\n",
              "\n",
              "    .dataframe tbody tr th {\n",
              "        vertical-align: top;\n",
              "    }\n",
              "\n",
              "    .dataframe thead th {\n",
              "        text-align: right;\n",
              "    }\n",
              "</style>\n",
              "<table border=\"1\" class=\"dataframe\">\n",
              "  <thead>\n",
              "    <tr style=\"text-align: right;\">\n",
              "      <th></th>\n",
              "      <th>0</th>\n",
              "      <th>0.1</th>\n",
              "      <th>0.2</th>\n",
              "      <th>0.3</th>\n",
              "      <th>0.4</th>\n",
              "      <th>0.5</th>\n",
              "      <th>0.6</th>\n",
              "      <th>0.7</th>\n",
              "      <th>0.8</th>\n",
              "      <th>0.9</th>\n",
              "      <th>...</th>\n",
              "      <th>0.486</th>\n",
              "      <th>0.487</th>\n",
              "      <th>0.488</th>\n",
              "      <th>0.489</th>\n",
              "      <th>0.490</th>\n",
              "      <th>0.491</th>\n",
              "      <th>0.492</th>\n",
              "      <th>0.493</th>\n",
              "      <th>0.494</th>\n",
              "      <th>0.495</th>\n",
              "    </tr>\n",
              "  </thead>\n",
              "  <tbody>\n",
              "    <tr>\n",
              "      <th>count</th>\n",
              "      <td>59999.0</td>\n",
              "      <td>59999.0</td>\n",
              "      <td>59999.0</td>\n",
              "      <td>59999.000000</td>\n",
              "      <td>59999.000000</td>\n",
              "      <td>59999.000000</td>\n",
              "      <td>59999.000000</td>\n",
              "      <td>59999.000000</td>\n",
              "      <td>59999.000000</td>\n",
              "      <td>59999.000000</td>\n",
              "      <td>...</td>\n",
              "      <td>59999.000000</td>\n",
              "      <td>59999.00000</td>\n",
              "      <td>59999.000000</td>\n",
              "      <td>59999.000000</td>\n",
              "      <td>59999.000000</td>\n",
              "      <td>59999.000000</td>\n",
              "      <td>59999.0</td>\n",
              "      <td>59999.0</td>\n",
              "      <td>59999.0</td>\n",
              "      <td>59999.0</td>\n",
              "    </tr>\n",
              "    <tr>\n",
              "      <th>mean</th>\n",
              "      <td>0.0</td>\n",
              "      <td>0.0</td>\n",
              "      <td>0.0</td>\n",
              "      <td>0.000017</td>\n",
              "      <td>0.016034</td>\n",
              "      <td>0.057084</td>\n",
              "      <td>0.216570</td>\n",
              "      <td>0.675361</td>\n",
              "      <td>1.072185</td>\n",
              "      <td>0.971450</td>\n",
              "      <td>...</td>\n",
              "      <td>0.018600</td>\n",
              "      <td>0.02705</td>\n",
              "      <td>0.054434</td>\n",
              "      <td>0.015817</td>\n",
              "      <td>0.007917</td>\n",
              "      <td>0.004767</td>\n",
              "      <td>0.0</td>\n",
              "      <td>0.0</td>\n",
              "      <td>0.0</td>\n",
              "      <td>0.0</td>\n",
              "    </tr>\n",
              "    <tr>\n",
              "      <th>std</th>\n",
              "      <td>0.0</td>\n",
              "      <td>0.0</td>\n",
              "      <td>0.0</td>\n",
              "      <td>0.004083</td>\n",
              "      <td>1.540061</td>\n",
              "      <td>3.098098</td>\n",
              "      <td>6.047045</td>\n",
              "      <td>10.869691</td>\n",
              "      <td>13.871559</td>\n",
              "      <td>12.833792</td>\n",
              "      <td>...</td>\n",
              "      <td>1.467819</td>\n",
              "      <td>1.66216</td>\n",
              "      <td>2.874302</td>\n",
              "      <td>1.172126</td>\n",
              "      <td>0.848358</td>\n",
              "      <td>0.752527</td>\n",
              "      <td>0.0</td>\n",
              "      <td>0.0</td>\n",
              "      <td>0.0</td>\n",
              "      <td>0.0</td>\n",
              "    </tr>\n",
              "    <tr>\n",
              "      <th>min</th>\n",
              "      <td>0.0</td>\n",
              "      <td>0.0</td>\n",
              "      <td>0.0</td>\n",
              "      <td>0.000000</td>\n",
              "      <td>0.000000</td>\n",
              "      <td>0.000000</td>\n",
              "      <td>0.000000</td>\n",
              "      <td>0.000000</td>\n",
              "      <td>0.000000</td>\n",
              "      <td>0.000000</td>\n",
              "      <td>...</td>\n",
              "      <td>0.000000</td>\n",
              "      <td>0.00000</td>\n",
              "      <td>0.000000</td>\n",
              "      <td>0.000000</td>\n",
              "      <td>0.000000</td>\n",
              "      <td>0.000000</td>\n",
              "      <td>0.0</td>\n",
              "      <td>0.0</td>\n",
              "      <td>0.0</td>\n",
              "      <td>0.0</td>\n",
              "    </tr>\n",
              "    <tr>\n",
              "      <th>25%</th>\n",
              "      <td>0.0</td>\n",
              "      <td>0.0</td>\n",
              "      <td>0.0</td>\n",
              "      <td>0.000000</td>\n",
              "      <td>0.000000</td>\n",
              "      <td>0.000000</td>\n",
              "      <td>0.000000</td>\n",
              "      <td>0.000000</td>\n",
              "      <td>0.000000</td>\n",
              "      <td>0.000000</td>\n",
              "      <td>...</td>\n",
              "      <td>0.000000</td>\n",
              "      <td>0.00000</td>\n",
              "      <td>0.000000</td>\n",
              "      <td>0.000000</td>\n",
              "      <td>0.000000</td>\n",
              "      <td>0.000000</td>\n",
              "      <td>0.0</td>\n",
              "      <td>0.0</td>\n",
              "      <td>0.0</td>\n",
              "      <td>0.0</td>\n",
              "    </tr>\n",
              "    <tr>\n",
              "      <th>50%</th>\n",
              "      <td>0.0</td>\n",
              "      <td>0.0</td>\n",
              "      <td>0.0</td>\n",
              "      <td>0.000000</td>\n",
              "      <td>0.000000</td>\n",
              "      <td>0.000000</td>\n",
              "      <td>0.000000</td>\n",
              "      <td>0.000000</td>\n",
              "      <td>0.000000</td>\n",
              "      <td>0.000000</td>\n",
              "      <td>...</td>\n",
              "      <td>0.000000</td>\n",
              "      <td>0.00000</td>\n",
              "      <td>0.000000</td>\n",
              "      <td>0.000000</td>\n",
              "      <td>0.000000</td>\n",
              "      <td>0.000000</td>\n",
              "      <td>0.0</td>\n",
              "      <td>0.0</td>\n",
              "      <td>0.0</td>\n",
              "      <td>0.0</td>\n",
              "    </tr>\n",
              "    <tr>\n",
              "      <th>75%</th>\n",
              "      <td>0.0</td>\n",
              "      <td>0.0</td>\n",
              "      <td>0.0</td>\n",
              "      <td>0.000000</td>\n",
              "      <td>0.000000</td>\n",
              "      <td>0.000000</td>\n",
              "      <td>0.000000</td>\n",
              "      <td>0.000000</td>\n",
              "      <td>0.000000</td>\n",
              "      <td>0.000000</td>\n",
              "      <td>...</td>\n",
              "      <td>0.000000</td>\n",
              "      <td>0.00000</td>\n",
              "      <td>0.000000</td>\n",
              "      <td>0.000000</td>\n",
              "      <td>0.000000</td>\n",
              "      <td>0.000000</td>\n",
              "      <td>0.0</td>\n",
              "      <td>0.0</td>\n",
              "      <td>0.0</td>\n",
              "      <td>0.0</td>\n",
              "    </tr>\n",
              "    <tr>\n",
              "      <th>max</th>\n",
              "      <td>0.0</td>\n",
              "      <td>0.0</td>\n",
              "      <td>0.0</td>\n",
              "      <td>1.000000</td>\n",
              "      <td>237.000000</td>\n",
              "      <td>255.000000</td>\n",
              "      <td>255.000000</td>\n",
              "      <td>255.000000</td>\n",
              "      <td>255.000000</td>\n",
              "      <td>255.000000</td>\n",
              "      <td>...</td>\n",
              "      <td>179.000000</td>\n",
              "      <td>200.00000</td>\n",
              "      <td>238.000000</td>\n",
              "      <td>154.000000</td>\n",
              "      <td>146.000000</td>\n",
              "      <td>154.000000</td>\n",
              "      <td>0.0</td>\n",
              "      <td>0.0</td>\n",
              "      <td>0.0</td>\n",
              "      <td>0.0</td>\n",
              "    </tr>\n",
              "  </tbody>\n",
              "</table>\n",
              "<p>8 rows × 784 columns</p>\n",
              "</div>\n",
              "      <button class=\"colab-df-convert\" onclick=\"convertToInteractive('df-fa1c7921-467e-41ca-9e7f-f4f496f92fa5')\"\n",
              "              title=\"Convert this dataframe to an interactive table.\"\n",
              "              style=\"display:none;\">\n",
              "        \n",
              "  <svg xmlns=\"http://www.w3.org/2000/svg\" height=\"24px\"viewBox=\"0 0 24 24\"\n",
              "       width=\"24px\">\n",
              "    <path d=\"M0 0h24v24H0V0z\" fill=\"none\"/>\n",
              "    <path d=\"M18.56 5.44l.94 2.06.94-2.06 2.06-.94-2.06-.94-.94-2.06-.94 2.06-2.06.94zm-11 1L8.5 8.5l.94-2.06 2.06-.94-2.06-.94L8.5 2.5l-.94 2.06-2.06.94zm10 10l.94 2.06.94-2.06 2.06-.94-2.06-.94-.94-2.06-.94 2.06-2.06.94z\"/><path d=\"M17.41 7.96l-1.37-1.37c-.4-.4-.92-.59-1.43-.59-.52 0-1.04.2-1.43.59L10.3 9.45l-7.72 7.72c-.78.78-.78 2.05 0 2.83L4 21.41c.39.39.9.59 1.41.59.51 0 1.02-.2 1.41-.59l7.78-7.78 2.81-2.81c.8-.78.8-2.07 0-2.86zM5.41 20L4 18.59l7.72-7.72 1.47 1.35L5.41 20z\"/>\n",
              "  </svg>\n",
              "      </button>\n",
              "      \n",
              "  <style>\n",
              "    .colab-df-container {\n",
              "      display:flex;\n",
              "      flex-wrap:wrap;\n",
              "      gap: 12px;\n",
              "    }\n",
              "\n",
              "    .colab-df-convert {\n",
              "      background-color: #E8F0FE;\n",
              "      border: none;\n",
              "      border-radius: 50%;\n",
              "      cursor: pointer;\n",
              "      display: none;\n",
              "      fill: #1967D2;\n",
              "      height: 32px;\n",
              "      padding: 0 0 0 0;\n",
              "      width: 32px;\n",
              "    }\n",
              "\n",
              "    .colab-df-convert:hover {\n",
              "      background-color: #E2EBFA;\n",
              "      box-shadow: 0px 1px 2px rgba(60, 64, 67, 0.3), 0px 1px 3px 1px rgba(60, 64, 67, 0.15);\n",
              "      fill: #174EA6;\n",
              "    }\n",
              "\n",
              "    [theme=dark] .colab-df-convert {\n",
              "      background-color: #3B4455;\n",
              "      fill: #D2E3FC;\n",
              "    }\n",
              "\n",
              "    [theme=dark] .colab-df-convert:hover {\n",
              "      background-color: #434B5C;\n",
              "      box-shadow: 0px 1px 3px 1px rgba(0, 0, 0, 0.15);\n",
              "      filter: drop-shadow(0px 1px 2px rgba(0, 0, 0, 0.3));\n",
              "      fill: #FFFFFF;\n",
              "    }\n",
              "  </style>\n",
              "\n",
              "      <script>\n",
              "        const buttonEl =\n",
              "          document.querySelector('#df-fa1c7921-467e-41ca-9e7f-f4f496f92fa5 button.colab-df-convert');\n",
              "        buttonEl.style.display =\n",
              "          google.colab.kernel.accessAllowed ? 'block' : 'none';\n",
              "\n",
              "        async function convertToInteractive(key) {\n",
              "          const element = document.querySelector('#df-fa1c7921-467e-41ca-9e7f-f4f496f92fa5');\n",
              "          const dataTable =\n",
              "            await google.colab.kernel.invokeFunction('convertToInteractive',\n",
              "                                                     [key], {});\n",
              "          if (!dataTable) return;\n",
              "\n",
              "          const docLinkHtml = 'Like what you see? Visit the ' +\n",
              "            '<a target=\"_blank\" href=https://colab.research.google.com/notebooks/data_table.ipynb>data table notebook</a>'\n",
              "            + ' to learn more about interactive tables.';\n",
              "          element.innerHTML = '';\n",
              "          dataTable['output_type'] = 'display_data';\n",
              "          await google.colab.output.renderOutput(dataTable, element);\n",
              "          const docLink = document.createElement('div');\n",
              "          docLink.innerHTML = docLinkHtml;\n",
              "          element.appendChild(docLink);\n",
              "        }\n",
              "      </script>\n",
              "    </div>\n",
              "  </div>\n",
              "  "
            ]
          },
          "metadata": {},
          "execution_count": 120
        }
      ]
    },
    {
      "cell_type": "code",
      "source": [
        "Y_train.describe()"
      ],
      "metadata": {
        "colab": {
          "base_uri": "https://localhost:8080/"
        },
        "id": "eIAL73HynSLN",
        "outputId": "ce7d0a06-2010-4ec3-947e-e6ff183a81e0"
      },
      "execution_count": 121,
      "outputs": [
        {
          "output_type": "execute_result",
          "data": {
            "text/plain": [
              "count    59999.000000\n",
              "mean         4.500075\n",
              "std          2.872270\n",
              "min          0.000000\n",
              "25%          2.000000\n",
              "50%          5.000000\n",
              "75%          7.000000\n",
              "max          9.000000\n",
              "Name: 0, dtype: float64"
            ]
          },
          "metadata": {},
          "execution_count": 121
        }
      ]
    },
    {
      "cell_type": "code",
      "source": [
        "test.describe()"
      ],
      "metadata": {
        "colab": {
          "base_uri": "https://localhost:8080/",
          "height": 393
        },
        "id": "uhC8DkqbnXts",
        "outputId": "a3593ee8-3ef1-42a5-8e1e-241890127015"
      },
      "execution_count": 122,
      "outputs": [
        {
          "output_type": "execute_result",
          "data": {
            "text/plain": [
              "            0     0.1     0.2     0.3          0.4          0.5          0.6  \\\n",
              "count  9999.0  9999.0  9999.0  9999.0  9999.000000  9999.000000  9999.000000   \n",
              "mean      0.0     0.0     0.0     0.0     0.007701     0.026903     0.199120   \n",
              "std       0.0     0.0     0.0     0.0     0.750302     2.553954     6.023613   \n",
              "min       0.0     0.0     0.0     0.0     0.000000     0.000000     0.000000   \n",
              "25%       0.0     0.0     0.0     0.0     0.000000     0.000000     0.000000   \n",
              "50%       0.0     0.0     0.0     0.0     0.000000     0.000000     0.000000   \n",
              "75%       0.0     0.0     0.0     0.0     0.000000     0.000000     0.000000   \n",
              "max       0.0     0.0     0.0     0.0    75.000000   255.000000   255.000000   \n",
              "\n",
              "               0.7          0.8          0.9  ...        0.538        0.539  \\\n",
              "count  9999.000000  9999.000000  9999.000000  ...  9999.000000  9999.000000   \n",
              "mean      0.579758     0.784478     0.712871  ...     0.035904     0.036004   \n",
              "std      10.178160    11.646613    10.608175  ...     2.170381     1.955829   \n",
              "min       0.000000     0.000000     0.000000  ...     0.000000     0.000000   \n",
              "25%       0.000000     0.000000     0.000000  ...     0.000000     0.000000   \n",
              "50%       0.000000     0.000000     0.000000  ...     0.000000     0.000000   \n",
              "75%       0.000000     0.000000     0.000000  ...     0.000000     0.000000   \n",
              "max     255.000000   255.000000   255.000000  ...   157.000000   134.000000   \n",
              "\n",
              "             0.540        0.541   0.542        0.543   0.544   0.545   0.546  \\\n",
              "count  9999.000000  9999.000000  9999.0  9999.000000  9999.0  9999.0  9999.0   \n",
              "mean      0.005001     0.000100     0.0     0.010401     0.0     0.0     0.0   \n",
              "std       0.490126     0.010001     0.0     0.738783     0.0     0.0     0.0   \n",
              "min       0.000000     0.000000     0.0     0.000000     0.0     0.0     0.0   \n",
              "25%       0.000000     0.000000     0.0     0.000000     0.0     0.0     0.0   \n",
              "50%       0.000000     0.000000     0.0     0.000000     0.0     0.0     0.0   \n",
              "75%       0.000000     0.000000     0.0     0.000000     0.0     0.0     0.0   \n",
              "max      49.000000     1.000000     0.0    57.000000     0.0     0.0     0.0   \n",
              "\n",
              "        0.547  \n",
              "count  9999.0  \n",
              "mean      0.0  \n",
              "std       0.0  \n",
              "min       0.0  \n",
              "25%       0.0  \n",
              "50%       0.0  \n",
              "75%       0.0  \n",
              "max       0.0  \n",
              "\n",
              "[8 rows x 784 columns]"
            ],
            "text/html": [
              "\n",
              "  <div id=\"df-34eb54c6-6714-4d02-82b5-d22fa61a517e\">\n",
              "    <div class=\"colab-df-container\">\n",
              "      <div>\n",
              "<style scoped>\n",
              "    .dataframe tbody tr th:only-of-type {\n",
              "        vertical-align: middle;\n",
              "    }\n",
              "\n",
              "    .dataframe tbody tr th {\n",
              "        vertical-align: top;\n",
              "    }\n",
              "\n",
              "    .dataframe thead th {\n",
              "        text-align: right;\n",
              "    }\n",
              "</style>\n",
              "<table border=\"1\" class=\"dataframe\">\n",
              "  <thead>\n",
              "    <tr style=\"text-align: right;\">\n",
              "      <th></th>\n",
              "      <th>0</th>\n",
              "      <th>0.1</th>\n",
              "      <th>0.2</th>\n",
              "      <th>0.3</th>\n",
              "      <th>0.4</th>\n",
              "      <th>0.5</th>\n",
              "      <th>0.6</th>\n",
              "      <th>0.7</th>\n",
              "      <th>0.8</th>\n",
              "      <th>0.9</th>\n",
              "      <th>...</th>\n",
              "      <th>0.538</th>\n",
              "      <th>0.539</th>\n",
              "      <th>0.540</th>\n",
              "      <th>0.541</th>\n",
              "      <th>0.542</th>\n",
              "      <th>0.543</th>\n",
              "      <th>0.544</th>\n",
              "      <th>0.545</th>\n",
              "      <th>0.546</th>\n",
              "      <th>0.547</th>\n",
              "    </tr>\n",
              "  </thead>\n",
              "  <tbody>\n",
              "    <tr>\n",
              "      <th>count</th>\n",
              "      <td>9999.0</td>\n",
              "      <td>9999.0</td>\n",
              "      <td>9999.0</td>\n",
              "      <td>9999.0</td>\n",
              "      <td>9999.000000</td>\n",
              "      <td>9999.000000</td>\n",
              "      <td>9999.000000</td>\n",
              "      <td>9999.000000</td>\n",
              "      <td>9999.000000</td>\n",
              "      <td>9999.000000</td>\n",
              "      <td>...</td>\n",
              "      <td>9999.000000</td>\n",
              "      <td>9999.000000</td>\n",
              "      <td>9999.000000</td>\n",
              "      <td>9999.000000</td>\n",
              "      <td>9999.0</td>\n",
              "      <td>9999.000000</td>\n",
              "      <td>9999.0</td>\n",
              "      <td>9999.0</td>\n",
              "      <td>9999.0</td>\n",
              "      <td>9999.0</td>\n",
              "    </tr>\n",
              "    <tr>\n",
              "      <th>mean</th>\n",
              "      <td>0.0</td>\n",
              "      <td>0.0</td>\n",
              "      <td>0.0</td>\n",
              "      <td>0.0</td>\n",
              "      <td>0.007701</td>\n",
              "      <td>0.026903</td>\n",
              "      <td>0.199120</td>\n",
              "      <td>0.579758</td>\n",
              "      <td>0.784478</td>\n",
              "      <td>0.712871</td>\n",
              "      <td>...</td>\n",
              "      <td>0.035904</td>\n",
              "      <td>0.036004</td>\n",
              "      <td>0.005001</td>\n",
              "      <td>0.000100</td>\n",
              "      <td>0.0</td>\n",
              "      <td>0.010401</td>\n",
              "      <td>0.0</td>\n",
              "      <td>0.0</td>\n",
              "      <td>0.0</td>\n",
              "      <td>0.0</td>\n",
              "    </tr>\n",
              "    <tr>\n",
              "      <th>std</th>\n",
              "      <td>0.0</td>\n",
              "      <td>0.0</td>\n",
              "      <td>0.0</td>\n",
              "      <td>0.0</td>\n",
              "      <td>0.750302</td>\n",
              "      <td>2.553954</td>\n",
              "      <td>6.023613</td>\n",
              "      <td>10.178160</td>\n",
              "      <td>11.646613</td>\n",
              "      <td>10.608175</td>\n",
              "      <td>...</td>\n",
              "      <td>2.170381</td>\n",
              "      <td>1.955829</td>\n",
              "      <td>0.490126</td>\n",
              "      <td>0.010001</td>\n",
              "      <td>0.0</td>\n",
              "      <td>0.738783</td>\n",
              "      <td>0.0</td>\n",
              "      <td>0.0</td>\n",
              "      <td>0.0</td>\n",
              "      <td>0.0</td>\n",
              "    </tr>\n",
              "    <tr>\n",
              "      <th>min</th>\n",
              "      <td>0.0</td>\n",
              "      <td>0.0</td>\n",
              "      <td>0.0</td>\n",
              "      <td>0.0</td>\n",
              "      <td>0.000000</td>\n",
              "      <td>0.000000</td>\n",
              "      <td>0.000000</td>\n",
              "      <td>0.000000</td>\n",
              "      <td>0.000000</td>\n",
              "      <td>0.000000</td>\n",
              "      <td>...</td>\n",
              "      <td>0.000000</td>\n",
              "      <td>0.000000</td>\n",
              "      <td>0.000000</td>\n",
              "      <td>0.000000</td>\n",
              "      <td>0.0</td>\n",
              "      <td>0.000000</td>\n",
              "      <td>0.0</td>\n",
              "      <td>0.0</td>\n",
              "      <td>0.0</td>\n",
              "      <td>0.0</td>\n",
              "    </tr>\n",
              "    <tr>\n",
              "      <th>25%</th>\n",
              "      <td>0.0</td>\n",
              "      <td>0.0</td>\n",
              "      <td>0.0</td>\n",
              "      <td>0.0</td>\n",
              "      <td>0.000000</td>\n",
              "      <td>0.000000</td>\n",
              "      <td>0.000000</td>\n",
              "      <td>0.000000</td>\n",
              "      <td>0.000000</td>\n",
              "      <td>0.000000</td>\n",
              "      <td>...</td>\n",
              "      <td>0.000000</td>\n",
              "      <td>0.000000</td>\n",
              "      <td>0.000000</td>\n",
              "      <td>0.000000</td>\n",
              "      <td>0.0</td>\n",
              "      <td>0.000000</td>\n",
              "      <td>0.0</td>\n",
              "      <td>0.0</td>\n",
              "      <td>0.0</td>\n",
              "      <td>0.0</td>\n",
              "    </tr>\n",
              "    <tr>\n",
              "      <th>50%</th>\n",
              "      <td>0.0</td>\n",
              "      <td>0.0</td>\n",
              "      <td>0.0</td>\n",
              "      <td>0.0</td>\n",
              "      <td>0.000000</td>\n",
              "      <td>0.000000</td>\n",
              "      <td>0.000000</td>\n",
              "      <td>0.000000</td>\n",
              "      <td>0.000000</td>\n",
              "      <td>0.000000</td>\n",
              "      <td>...</td>\n",
              "      <td>0.000000</td>\n",
              "      <td>0.000000</td>\n",
              "      <td>0.000000</td>\n",
              "      <td>0.000000</td>\n",
              "      <td>0.0</td>\n",
              "      <td>0.000000</td>\n",
              "      <td>0.0</td>\n",
              "      <td>0.0</td>\n",
              "      <td>0.0</td>\n",
              "      <td>0.0</td>\n",
              "    </tr>\n",
              "    <tr>\n",
              "      <th>75%</th>\n",
              "      <td>0.0</td>\n",
              "      <td>0.0</td>\n",
              "      <td>0.0</td>\n",
              "      <td>0.0</td>\n",
              "      <td>0.000000</td>\n",
              "      <td>0.000000</td>\n",
              "      <td>0.000000</td>\n",
              "      <td>0.000000</td>\n",
              "      <td>0.000000</td>\n",
              "      <td>0.000000</td>\n",
              "      <td>...</td>\n",
              "      <td>0.000000</td>\n",
              "      <td>0.000000</td>\n",
              "      <td>0.000000</td>\n",
              "      <td>0.000000</td>\n",
              "      <td>0.0</td>\n",
              "      <td>0.000000</td>\n",
              "      <td>0.0</td>\n",
              "      <td>0.0</td>\n",
              "      <td>0.0</td>\n",
              "      <td>0.0</td>\n",
              "    </tr>\n",
              "    <tr>\n",
              "      <th>max</th>\n",
              "      <td>0.0</td>\n",
              "      <td>0.0</td>\n",
              "      <td>0.0</td>\n",
              "      <td>0.0</td>\n",
              "      <td>75.000000</td>\n",
              "      <td>255.000000</td>\n",
              "      <td>255.000000</td>\n",
              "      <td>255.000000</td>\n",
              "      <td>255.000000</td>\n",
              "      <td>255.000000</td>\n",
              "      <td>...</td>\n",
              "      <td>157.000000</td>\n",
              "      <td>134.000000</td>\n",
              "      <td>49.000000</td>\n",
              "      <td>1.000000</td>\n",
              "      <td>0.0</td>\n",
              "      <td>57.000000</td>\n",
              "      <td>0.0</td>\n",
              "      <td>0.0</td>\n",
              "      <td>0.0</td>\n",
              "      <td>0.0</td>\n",
              "    </tr>\n",
              "  </tbody>\n",
              "</table>\n",
              "<p>8 rows × 784 columns</p>\n",
              "</div>\n",
              "      <button class=\"colab-df-convert\" onclick=\"convertToInteractive('df-34eb54c6-6714-4d02-82b5-d22fa61a517e')\"\n",
              "              title=\"Convert this dataframe to an interactive table.\"\n",
              "              style=\"display:none;\">\n",
              "        \n",
              "  <svg xmlns=\"http://www.w3.org/2000/svg\" height=\"24px\"viewBox=\"0 0 24 24\"\n",
              "       width=\"24px\">\n",
              "    <path d=\"M0 0h24v24H0V0z\" fill=\"none\"/>\n",
              "    <path d=\"M18.56 5.44l.94 2.06.94-2.06 2.06-.94-2.06-.94-.94-2.06-.94 2.06-2.06.94zm-11 1L8.5 8.5l.94-2.06 2.06-.94-2.06-.94L8.5 2.5l-.94 2.06-2.06.94zm10 10l.94 2.06.94-2.06 2.06-.94-2.06-.94-.94-2.06-.94 2.06-2.06.94z\"/><path d=\"M17.41 7.96l-1.37-1.37c-.4-.4-.92-.59-1.43-.59-.52 0-1.04.2-1.43.59L10.3 9.45l-7.72 7.72c-.78.78-.78 2.05 0 2.83L4 21.41c.39.39.9.59 1.41.59.51 0 1.02-.2 1.41-.59l7.78-7.78 2.81-2.81c.8-.78.8-2.07 0-2.86zM5.41 20L4 18.59l7.72-7.72 1.47 1.35L5.41 20z\"/>\n",
              "  </svg>\n",
              "      </button>\n",
              "      \n",
              "  <style>\n",
              "    .colab-df-container {\n",
              "      display:flex;\n",
              "      flex-wrap:wrap;\n",
              "      gap: 12px;\n",
              "    }\n",
              "\n",
              "    .colab-df-convert {\n",
              "      background-color: #E8F0FE;\n",
              "      border: none;\n",
              "      border-radius: 50%;\n",
              "      cursor: pointer;\n",
              "      display: none;\n",
              "      fill: #1967D2;\n",
              "      height: 32px;\n",
              "      padding: 0 0 0 0;\n",
              "      width: 32px;\n",
              "    }\n",
              "\n",
              "    .colab-df-convert:hover {\n",
              "      background-color: #E2EBFA;\n",
              "      box-shadow: 0px 1px 2px rgba(60, 64, 67, 0.3), 0px 1px 3px 1px rgba(60, 64, 67, 0.15);\n",
              "      fill: #174EA6;\n",
              "    }\n",
              "\n",
              "    [theme=dark] .colab-df-convert {\n",
              "      background-color: #3B4455;\n",
              "      fill: #D2E3FC;\n",
              "    }\n",
              "\n",
              "    [theme=dark] .colab-df-convert:hover {\n",
              "      background-color: #434B5C;\n",
              "      box-shadow: 0px 1px 3px 1px rgba(0, 0, 0, 0.15);\n",
              "      filter: drop-shadow(0px 1px 2px rgba(0, 0, 0, 0.3));\n",
              "      fill: #FFFFFF;\n",
              "    }\n",
              "  </style>\n",
              "\n",
              "      <script>\n",
              "        const buttonEl =\n",
              "          document.querySelector('#df-34eb54c6-6714-4d02-82b5-d22fa61a517e button.colab-df-convert');\n",
              "        buttonEl.style.display =\n",
              "          google.colab.kernel.accessAllowed ? 'block' : 'none';\n",
              "\n",
              "        async function convertToInteractive(key) {\n",
              "          const element = document.querySelector('#df-34eb54c6-6714-4d02-82b5-d22fa61a517e');\n",
              "          const dataTable =\n",
              "            await google.colab.kernel.invokeFunction('convertToInteractive',\n",
              "                                                     [key], {});\n",
              "          if (!dataTable) return;\n",
              "\n",
              "          const docLinkHtml = 'Like what you see? Visit the ' +\n",
              "            '<a target=\"_blank\" href=https://colab.research.google.com/notebooks/data_table.ipynb>data table notebook</a>'\n",
              "            + ' to learn more about interactive tables.';\n",
              "          element.innerHTML = '';\n",
              "          dataTable['output_type'] = 'display_data';\n",
              "          await google.colab.output.renderOutput(dataTable, element);\n",
              "          const docLink = document.createElement('div');\n",
              "          docLink.innerHTML = docLinkHtml;\n",
              "          element.appendChild(docLink);\n",
              "        }\n",
              "      </script>\n",
              "    </div>\n",
              "  </div>\n",
              "  "
            ]
          },
          "metadata": {},
          "execution_count": 122
        }
      ]
    },
    {
      "cell_type": "code",
      "source": [
        "X_train.isnull().any().describe()"
      ],
      "metadata": {
        "colab": {
          "base_uri": "https://localhost:8080/"
        },
        "id": "HRXop1uNnLew",
        "outputId": "094b8408-e32d-4c0e-bdc8-cd8f13bcf1b1"
      },
      "execution_count": 123,
      "outputs": [
        {
          "output_type": "execute_result",
          "data": {
            "text/plain": [
              "count       784\n",
              "unique        1\n",
              "top       False\n",
              "freq        784\n",
              "dtype: object"
            ]
          },
          "metadata": {},
          "execution_count": 123
        }
      ]
    },
    {
      "cell_type": "code",
      "source": [
        "test.isnull().any().describe()"
      ],
      "metadata": {
        "colab": {
          "base_uri": "https://localhost:8080/"
        },
        "id": "HCs3-2DIt8Uo",
        "outputId": "80190d1e-fcf8-4d79-88f9-d760372cd6a4"
      },
      "execution_count": 124,
      "outputs": [
        {
          "output_type": "execute_result",
          "data": {
            "text/plain": [
              "count       784\n",
              "unique        1\n",
              "top       False\n",
              "freq        784\n",
              "dtype: object"
            ]
          },
          "metadata": {},
          "execution_count": 124
        }
      ]
    },
    {
      "cell_type": "markdown",
      "source": [
        "#Normalization the dataset"
      ],
      "metadata": {
        "id": "_Aj2lZ50n1xd"
      }
    },
    {
      "cell_type": "code",
      "source": [
        "X_train = X_train / 255.0\n",
        "test = test / 255.0"
      ],
      "metadata": {
        "id": "QObt9K35n451"
      },
      "execution_count": 125,
      "outputs": []
    },
    {
      "cell_type": "code",
      "source": [
        "print(X_train.shape)\n",
        "print(Y_train.shape)"
      ],
      "metadata": {
        "colab": {
          "base_uri": "https://localhost:8080/"
        },
        "id": "KybJY7IMn-oG",
        "outputId": "a0251b60-8a48-426c-eb65-eb4768673bcd"
      },
      "execution_count": 126,
      "outputs": [
        {
          "output_type": "stream",
          "name": "stdout",
          "text": [
            "(59999, 784)\n",
            "(59999,)\n"
          ]
        }
      ]
    },
    {
      "cell_type": "markdown",
      "source": [
        "#Reshape the images to 28x28x1"
      ],
      "metadata": {
        "id": "3tu4NUVGoE4G"
      }
    },
    {
      "cell_type": "code",
      "source": [
        "X_train = X_train.values.reshape(-1,28,28,1)\n",
        "test = test.values.reshape(-1,28,28,1)"
      ],
      "metadata": {
        "id": "DDdEqHGxoDm0"
      },
      "execution_count": 127,
      "outputs": []
    },
    {
      "cell_type": "code",
      "source": [
        "print(X_train.shape)\n",
        "print(Y_train.shape)\n",
        "\n",
        "print(test.shape)\n",
        "print(y_test.shape)"
      ],
      "metadata": {
        "colab": {
          "base_uri": "https://localhost:8080/"
        },
        "id": "tk8qWQJFoPUS",
        "outputId": "bccaf926-4935-4338-fe7e-48981c0d25bb"
      },
      "execution_count": 128,
      "outputs": [
        {
          "output_type": "stream",
          "name": "stdout",
          "text": [
            "(59999, 28, 28, 1)\n",
            "(59999,)\n",
            "(9999, 28, 28, 1)\n",
            "(9999,)\n"
          ]
        }
      ]
    },
    {
      "cell_type": "markdown",
      "source": [
        "#Encoding the labels"
      ],
      "metadata": {
        "id": "C4WcnTUCobVX"
      }
    },
    {
      "cell_type": "code",
      "source": [
        "Y_train = to_categorical(Y_train, num_classes = 10)\n",
        "y_test  = to_categorical(y_test , num_classes = 10)"
      ],
      "metadata": {
        "id": "H5Vv23OqoRjX"
      },
      "execution_count": 129,
      "outputs": []
    },
    {
      "cell_type": "code",
      "source": [
        "print(Y_train.shape)\n",
        "print(y_test.shape)"
      ],
      "metadata": {
        "colab": {
          "base_uri": "https://localhost:8080/"
        },
        "id": "dUt6RUpzoiUa",
        "outputId": "a6895d43-1c90-4e02-9f8d-30202348c2de"
      },
      "execution_count": 130,
      "outputs": [
        {
          "output_type": "stream",
          "name": "stdout",
          "text": [
            "(59999, 10)\n",
            "(9999, 10)\n"
          ]
        }
      ]
    },
    {
      "cell_type": "markdown",
      "source": [
        "#Spliting the data into training and testing"
      ],
      "metadata": {
        "id": "4EQ6kBiBorGO"
      }
    },
    {
      "cell_type": "code",
      "source": [
        "X_train, X_val, Y_train, Y_val = train_test_split(X_train, Y_train, test_size = 0.1, random_state=4)"
      ],
      "metadata": {
        "id": "hv8l4IX9ovrM"
      },
      "execution_count": 131,
      "outputs": []
    },
    {
      "cell_type": "code",
      "source": [
        "print(X_train.shape)\n",
        "print(Y_train.shape)\n",
        "print(X_val.shape)\n",
        "print(Y_val.shape)"
      ],
      "metadata": {
        "colab": {
          "base_uri": "https://localhost:8080/"
        },
        "id": "4CbtVr1Ao5Rg",
        "outputId": "9e82177f-e795-4f18-d989-e5e7be074d70"
      },
      "execution_count": 132,
      "outputs": [
        {
          "output_type": "stream",
          "name": "stdout",
          "text": [
            "(53999, 28, 28, 1)\n",
            "(53999, 10)\n",
            "(6000, 28, 28, 1)\n",
            "(6000, 10)\n"
          ]
        }
      ]
    },
    {
      "cell_type": "code",
      "source": [
        "img_num=50\n",
        "\n",
        "\n",
        "image = (X_train[img_num][:,:,0])\n",
        "image = image.reshape([28, 28])\n",
        "image = np.fliplr(image)\n",
        "image = np.rot90(image)\n",
        "plt.imshow(image)\n",
        "\n",
        "\n",
        "print(Y_train[img_num])"
      ],
      "metadata": {
        "colab": {
          "base_uri": "https://localhost:8080/",
          "height": 285
        },
        "id": "zriGXNx2pGLO",
        "outputId": "264a4dbe-c514-46b5-e3e9-4b45c6763ea8"
      },
      "execution_count": 133,
      "outputs": [
        {
          "output_type": "stream",
          "name": "stdout",
          "text": [
            "[0. 1. 0. 0. 0. 0. 0. 0. 0. 0.]\n"
          ]
        },
        {
          "output_type": "display_data",
          "data": {
            "text/plain": [
              "<Figure size 432x288 with 1 Axes>"
            ],
            "image/png": "[encoded data removed]"
          },
          "metadata": {}
        }
      ]
    },
    {
      "cell_type": "code",
      "source": [
        "img_num=19\n",
        "\n",
        "\n",
        "image = (X_train[img_num][:,:,0])\n",
        "image = image.reshape([28, 28])\n",
        "image = np.fliplr(image)\n",
        "image = np.rot90(image)\n",
        "plt.imshow(image)\n",
        "\n",
        "\n",
        "print(Y_train[img_num])"
      ],
      "metadata": {
        "colab": {
          "base_uri": "https://localhost:8080/",
          "height": 285
        },
        "id": "Pik61056s4LJ",
        "outputId": "98f39e21-a9d5-4c9d-c22d-78ab80d6c892"
      },
      "execution_count": 184,
      "outputs": [
        {
          "output_type": "stream",
          "name": "stdout",
          "text": [
            "[0. 0. 0. 0. 1. 0. 0. 0. 0. 0.]\n"
          ]
        },
        {
          "output_type": "display_data",
          "data": {
            "text/plain": [
              "<Figure size 432x288 with 1 Axes>"
            ],
            "image/png": "[encoded data removed]"
          },
          "metadata": {}
        }
      ]
    },
    {
      "cell_type": "markdown",
      "source": [
        "#CNN Model"
      ],
      "metadata": {
        "id": "s87TVGO8rd6j"
      }
    },
    {
      "cell_type": "code",
      "source": [
        "model = Sequential()\n",
        "\n",
        "model.add(Conv2D(filters = 80, kernel_size = (5,5),padding = 'Same', activation ='relu', input_shape = (28,28,1)))\n",
        "model.add(MaxPool2D(pool_size=(2,2)))\n",
        "model.add(Dropout(0.25))\n",
        "model.add(Conv2D(filters = 64, kernel_size = (5,5),padding = 'Same', activation ='relu'))\n",
        "model.add(MaxPool2D(pool_size=(2,2)))\n",
        "model.add(Dropout(0.25))\n",
        "model.add(Flatten())\n",
        "model.add(Dense(128, activation = \"relu\"))\n",
        "model.add(Dropout(0.25))\n",
        "model.add(Dense(10, activation = \"softmax\"))\n",
        "model.summary()\n",
        "model.save(r'model_hand.h5')"
      ],
      "metadata": {
        "colab": {
          "base_uri": "https://localhost:8080/"
        },
        "id": "MvmbppQorcNZ",
        "outputId": "32598e54-a365-4c41-86f4-1fa7a19b2c83"
      },
      "execution_count": 189,
      "outputs": [
        {
          "output_type": "stream",
          "name": "stdout",
          "text": [
            "Model: \"sequential_2\"\n",
            "_________________________________________________________________\n",
            " Layer (type)                Output Shape              Param #   \n",
            "=================================================================\n",
            " conv2d_4 (Conv2D)           (None, 28, 28, 80)        2080      \n",
            "                                                                 \n",
            " max_pooling2d_4 (MaxPooling  (None, 14, 14, 80)       0         \n",
            " 2D)                                                             \n",
            "                                                                 \n",
            " dropout_6 (Dropout)         (None, 14, 14, 80)        0         \n",
            "                                                                 \n",
            " conv2d_5 (Conv2D)           (None, 14, 14, 64)        128064    \n",
            "                                                                 \n",
            " max_pooling2d_5 (MaxPooling  (None, 7, 7, 64)         0         \n",
            " 2D)                                                             \n",
            "                                                                 \n",
            " dropout_7 (Dropout)         (None, 7, 7, 64)          0         \n",
            "                                                                 \n",
            " flatten_2 (Flatten)         (None, 3136)              0         \n",
            "                                                                 \n",
            " dense_4 (Dense)             (None, 128)               401536    \n",
            "                                                                 \n",
            " dropout_8 (Dropout)         (None, 128)               0         \n",
            "                                                                 \n",
            " dense_5 (Dense)             (None, 10)                1290      \n",
            "                                                                 \n",
            "=================================================================\n",
            "Total params: 532,970\n",
            "Trainable params: 532,970\n",
            "Non-trainable params: 0\n",
            "_________________________________________________________________\n"
          ]
        },
        {
          "output_type": "stream",
          "name": "stderr",
          "text": [
            "WARNING:tensorflow:Compiled the loaded model, but the compiled metrics have yet to be built. `model.compile_metrics` will be empty until you train or evaluate the model.\n"
          ]
        }
      ]
    },
    {
      "cell_type": "code",
      "source": [
        "from keras.utils.vis_utils import plot_model\n",
        "plot_model(model, to_file='model.png', show_shapes=True, show_layer_names=True)\n",
        "from IPython.display import Image\n",
        "Image(\"model.png\")"
      ],
      "metadata": {
        "colab": {
          "base_uri": "https://localhost:8080/",
          "height": 1000
        },
        "id": "ckHy3TyHrqIB",
        "outputId": "233c41db-dabb-4ab2-b194-49e2d57a7680"
      },
      "execution_count": 190,
      "outputs": [
        {
          "output_type": "execute_result",
          "data": {
            "image/png": "[encoded data removed]",
            "text/plain": [
              "<IPython.core.display.Image object>"
            ]
          },
          "metadata": {},
          "execution_count": 190
        }
      ]
    },
    {
      "cell_type": "markdown",
      "source": [
        "#Fit and Compile the Model"
      ],
      "metadata": {
        "id": "w4QaHponsQUk"
      }
    },
    {
      "cell_type": "code",
      "source": [
        "optimizer = SGD(learning_rate=0.001, momentum=0.30)"
      ],
      "metadata": {
        "id": "ztLSbAxOsGv5"
      },
      "execution_count": 195,
      "outputs": []
    },
    {
      "cell_type": "code",
      "source": [
        "model.compile(optimizer = optimizer  , loss = \"categorical_crossentropy\", metrics=[\"accuracy\"])"
      ],
      "metadata": {
        "id": "Db4HUPBgr65Y"
      },
      "execution_count": 196,
      "outputs": []
    },
    {
      "cell_type": "code",
      "source": [
        "history = model.fit( X_train,Y_train, batch_size=64, epochs = 20, validation_data = (X_val, Y_val), verbose = 1)"
      ],
      "metadata": {
        "colab": {
          "base_uri": "https://localhost:8080/"
        },
        "id": "MPQ3KCmjsPDl",
        "outputId": "7efaefa8-b745-4346-e729-246c3ef2e6ed"
      },
      "execution_count": 197,
      "outputs": [
        {
          "output_type": "stream",
          "name": "stdout",
          "text": [
            "Epoch 1/20\n",
            "844/844 [==============================] - 7s 8ms/step - loss: 2.0922 - accuracy: 0.3279 - val_loss: 1.5682 - val_accuracy: 0.7848\n",
            "Epoch 2/20\n",
            "844/844 [==============================] - 6s 7ms/step - loss: 0.8965 - accuracy: 0.7779 - val_loss: 0.3400 - val_accuracy: 0.9270\n",
            "Epoch 3/20\n",
            "844/844 [==============================] - 6s 7ms/step - loss: 0.3999 - accuracy: 0.8900 - val_loss: 0.2051 - val_accuracy: 0.9480\n",
            "Epoch 4/20\n",
            "844/844 [==============================] - 6s 7ms/step - loss: 0.2875 - accuracy: 0.9205 - val_loss: 0.1551 - val_accuracy: 0.9577\n",
            "Epoch 5/20\n",
            "844/844 [==============================] - 6s 7ms/step - loss: 0.2371 - accuracy: 0.9333 - val_loss: 0.1302 - val_accuracy: 0.9637\n",
            "Epoch 6/20\n",
            "844/844 [==============================] - 6s 7ms/step - loss: 0.2075 - accuracy: 0.9416 - val_loss: 0.1177 - val_accuracy: 0.9678\n",
            "Epoch 7/20\n",
            "844/844 [==============================] - 6s 7ms/step - loss: 0.1850 - accuracy: 0.9488 - val_loss: 0.1068 - val_accuracy: 0.9707\n",
            "Epoch 8/20\n",
            "844/844 [==============================] - 6s 7ms/step - loss: 0.1712 - accuracy: 0.9519 - val_loss: 0.0987 - val_accuracy: 0.9735\n",
            "Epoch 9/20\n",
            "844/844 [==============================] - 6s 7ms/step - loss: 0.1585 - accuracy: 0.9549 - val_loss: 0.0933 - val_accuracy: 0.9742\n",
            "Epoch 10/20\n",
            "844/844 [==============================] - 6s 7ms/step - loss: 0.1501 - accuracy: 0.9577 - val_loss: 0.0885 - val_accuracy: 0.9755\n",
            "Epoch 11/20\n",
            "844/844 [==============================] - 6s 7ms/step - loss: 0.1403 - accuracy: 0.9598 - val_loss: 0.0840 - val_accuracy: 0.9760\n",
            "Epoch 12/20\n",
            "844/844 [==============================] - 6s 7ms/step - loss: 0.1367 - accuracy: 0.9610 - val_loss: 0.0812 - val_accuracy: 0.9780\n",
            "Epoch 13/20\n",
            "844/844 [==============================] - 6s 7ms/step - loss: 0.1279 - accuracy: 0.9636 - val_loss: 0.0782 - val_accuracy: 0.9785\n",
            "Epoch 14/20\n",
            "844/844 [==============================] - 6s 7ms/step - loss: 0.1225 - accuracy: 0.9648 - val_loss: 0.0754 - val_accuracy: 0.9790\n",
            "Epoch 15/20\n",
            "844/844 [==============================] - 6s 7ms/step - loss: 0.1188 - accuracy: 0.9662 - val_loss: 0.0726 - val_accuracy: 0.9795\n",
            "Epoch 16/20\n",
            "844/844 [==============================] - 6s 7ms/step - loss: 0.1141 - accuracy: 0.9670 - val_loss: 0.0707 - val_accuracy: 0.9803\n",
            "Epoch 17/20\n",
            "844/844 [==============================] - 6s 7ms/step - loss: 0.1099 - accuracy: 0.9684 - val_loss: 0.0693 - val_accuracy: 0.9813\n",
            "Epoch 18/20\n",
            "844/844 [==============================] - 6s 7ms/step - loss: 0.1048 - accuracy: 0.9698 - val_loss: 0.0667 - val_accuracy: 0.9820\n",
            "Epoch 19/20\n",
            "844/844 [==============================] - 6s 7ms/step - loss: 0.1016 - accuracy: 0.9701 - val_loss: 0.0647 - val_accuracy: 0.9820\n",
            "Epoch 20/20\n",
            "844/844 [==============================] - 6s 7ms/step - loss: 0.1021 - accuracy: 0.9708 - val_loss: 0.0636 - val_accuracy: 0.9827\n"
          ]
        }
      ]
    },
    {
      "cell_type": "markdown",
      "source": [
        "#Plot Accuracy"
      ],
      "metadata": {
        "id": "jqtQCJSTwBr0"
      }
    },
    {
      "cell_type": "code",
      "source": [
        "plt.figure(0)\n",
        "plt.plot(history.history['accuracy'], label='train')\n",
        "plt.plot(history.history['val_accuracy'], label='test')\n",
        "plt.title('Model CNN Accuracy', fontsize=20)\n",
        "plt.xlabel('Epochs', fontsize=15)\n",
        "plt.ylabel('Accuracy', fontsize=15)\n",
        "plt.grid()\n",
        "plt.legend()"
      ],
      "metadata": {
        "colab": {
          "base_uri": "https://localhost:8080/",
          "height": 325
        },
        "id": "hPZJUh69wFDD",
        "outputId": "880de680-1dc8-43a8-a76c-ad554aa07b54"
      },
      "execution_count": 198,
      "outputs": [
        {
          "output_type": "execute_result",
          "data": {
            "text/plain": [
              "<matplotlib.legend.Legend at 0x7f841e305340>"
            ]
          },
          "metadata": {},
          "execution_count": 198
        },
        {
          "output_type": "display_data",
          "data": {
            "text/plain": [
              "<Figure size 432x288 with 1 Axes>"
            ],
            "image/png": "[encoded data removed]"
          },
          "metadata": {}
        }
      ]
    },
    {
      "cell_type": "markdown",
      "source": [
        "#Plot The Loss"
      ],
      "metadata": {
        "id": "3czQoECxwYbF"
      }
    },
    {
      "cell_type": "code",
      "source": [
        "plt.figure(1)\n",
        "plt.plot(history.history['loss'], label='train')\n",
        "plt.plot(history.history['val_loss'], label='test')\n",
        "plt.title('Model CNN Loss', fontsize=20)\n",
        "plt.xlabel('Epochs', fontsize=15)\n",
        "plt.ylabel('Loss', fontsize=15)\n",
        "plt.grid()\n",
        "plt.legend()\n",
        "\n",
        "plt.show()"
      ],
      "metadata": {
        "colab": {
          "base_uri": "https://localhost:8080/",
          "height": 308
        },
        "id": "O-jkyOBQwX2z",
        "outputId": "f47ce914-c085-491c-9c2f-aba7d25872f3"
      },
      "execution_count": 199,
      "outputs": [
        {
          "output_type": "display_data",
          "data": {
            "text/plain": [
              "<Figure size 432x288 with 1 Axes>"
            ],
            "image/png": "[encoded data removed]"
          },
          "metadata": {}
        }
      ]
    },
    {
      "cell_type": "markdown",
      "source": [
        "#Confusion Matrix on validation data"
      ],
      "metadata": {
        "id": "QkQg_rsawnXX"
      }
    },
    {
      "cell_type": "code",
      "source": [
        "def plot_confusion_matrix(cm, classes,normalize=False,title='Confusion matrix',cmap=plt.cm.Blues):\n",
        "    plt.imshow(cm, interpolation='nearest', cmap=cmap)\n",
        "    plt.title(title)\n",
        "    plt.colorbar()\n",
        "    tick_marks = np.arange(len(classes))\n",
        "    plt.xticks(tick_marks, classes, rotation=0)\n",
        "    plt.yticks(tick_marks, classes)\n",
        "\n",
        "    if normalize:\n",
        "        cm = cm.astype('float') / cm.sum(axis=1)[:, np.newaxis]\n",
        "\n",
        "    thresh = cm.max() / 2.\n",
        "    for i, j in itertools.product(range(cm.shape[0]), range(cm.shape[1])):\n",
        "        plt.text(j, i, cm[i, j],\n",
        "                 horizontalalignment=\"center\",\n",
        "                 color=\"white\" if cm[i, j] > thresh else \"black\")\n",
        "\n",
        "    plt.tight_layout()\n",
        "    plt.ylabel('True label')\n",
        "    plt.xlabel('Predicted label')\n",
        "\n",
        "# Predict the values from the validation dataset\n",
        "Y_pred = model.predict(X_val)\n",
        "# Convert predictions classes to one hot vectors \n",
        "Y_pred_classes = np.argmax(Y_pred,axis = 1) \n",
        "# Convert validation observations to one hot vectors\n",
        "Y_true = np.argmax(Y_val,axis = 1) \n",
        "# compute the confusion matrix\n",
        "confusion_mtx = confusion_matrix(Y_true, Y_pred_classes) \n",
        "# plot the confusion matrix\n",
        "plot_confusion_matrix(confusion_mtx, classes = range(10)) "
      ],
      "metadata": {
        "colab": {
          "base_uri": "https://localhost:8080/",
          "height": 327
        },
        "id": "wZz73pGowtUA",
        "outputId": "42344b66-8681-4862-abba-4087c82588c4"
      },
      "execution_count": 200,
      "outputs": [
        {
          "output_type": "stream",
          "name": "stdout",
          "text": [
            "188/188 [==============================] - 0s 2ms/step\n"
          ]
        },
        {
          "output_type": "display_data",
          "data": {
            "text/plain": [
              "<Figure size 432x288 with 2 Axes>"
            ],
            "image/png": "[encoded data removed]"
          },
          "metadata": {}
        }
      ]
    },
    {
      "cell_type": "markdown",
      "source": [
        "#Evaluate the Model"
      ],
      "metadata": {
        "id": "eQi8UWJA05oU"
      }
    },
    {
      "cell_type": "code",
      "source": [
        "y_pred = model.predict(test) "
      ],
      "metadata": {
        "colab": {
          "base_uri": "https://localhost:8080/"
        },
        "id": "nlsePlhKxvM_",
        "outputId": "63ffef4e-e8cb-4e9a-ba9f-1f62c00435f7"
      },
      "execution_count": 201,
      "outputs": [
        {
          "output_type": "stream",
          "name": "stdout",
          "text": [
            "313/313 [==============================] - 1s 2ms/step\n"
          ]
        }
      ]
    },
    {
      "cell_type": "code",
      "source": [
        "print(test.shape)\n",
        "print(y_test.shape)\n",
        "print(y_pred.shape)"
      ],
      "metadata": {
        "colab": {
          "base_uri": "https://localhost:8080/"
        },
        "id": "hXB3GkiW0vz5",
        "outputId": "1247c3f6-3860-40c9-9d16-5027350c552b"
      },
      "execution_count": 202,
      "outputs": [
        {
          "output_type": "stream",
          "name": "stdout",
          "text": [
            "(9999, 28, 28, 1)\n",
            "(9999, 10)\n",
            "(9999, 10)\n"
          ]
        }
      ]
    },
    {
      "cell_type": "code",
      "source": [
        "score = model.evaluate(test , y_test,verbose=3)\n",
        "\n",
        "print('Test accuarcy: %2f%%' % round((score[1] * 100),5))\n",
        "print('Loss accuracy: %2f%%' % round((score[0] * 100),0))\n"
      ],
      "metadata": {
        "colab": {
          "base_uri": "https://localhost:8080/"
        },
        "id": "VcoapGNZ03vo",
        "outputId": "d3896d01-8274-4681-c201-b51e3e40788e"
      },
      "execution_count": 203,
      "outputs": [
        {
          "output_type": "stream",
          "name": "stdout",
          "text": [
            "Test accuarcy: 97.399740%\n",
            "Loss accuracy: 8.000000%\n"
          ]
        }
      ]
    },
    {
      "cell_type": "code",
      "source": [
        "results = np.argmax(y_pred,axis = 1)\n",
        "results = pd.Series(results,name=\"Label\")"
      ],
      "metadata": {
        "id": "TcL4tRkM1DZG"
      },
      "execution_count": 204,
      "outputs": []
    },
    {
      "cell_type": "markdown",
      "source": [
        "#Testing the Model"
      ],
      "metadata": {
        "id": "fMjAj1z71Gpa"
      }
    },
    {
      "cell_type": "code",
      "source": [
        "img_num= 90  \n",
        "\n",
        "\n",
        "image = (test[img_num][:,:,0])\n",
        "image = image.reshape([28, 28])\n",
        "image = np.fliplr(image)\n",
        "image = np.rot90(image)\n",
        "plt.imshow(image)\n",
        "\n",
        "\n",
        "print(results[img_num])"
      ],
      "metadata": {
        "colab": {
          "base_uri": "https://localhost:8080/",
          "height": 285
        },
        "id": "ZvedbbEB1E5x",
        "outputId": "dcbd43f7-3c88-47bc-b8f0-f346bd0c4b80"
      },
      "execution_count": 209,
      "outputs": [
        {
          "output_type": "stream",
          "name": "stdout",
          "text": [
            "1\n"
          ]
        },
        {
          "output_type": "display_data",
          "data": {
            "text/plain": [
              "<Figure size 432x288 with 1 Axes>"
            ],
            "image/png": "[encoded data removed]"
          },
          "metadata": {}
        }
      ]
    },
    {
      "cell_type": "markdown",
      "source": [
        "#Confusion Matrix on testing data"
      ],
      "metadata": {
        "id": "irGIcpbn1T3J"
      }
    },
    {
      "cell_type": "code",
      "source": [
        "Y_true = np.argmax(y_test,axis = 1)\n",
        "confusion_mtx = confusion_matrix(Y_true, results) \n",
        "plot_confusion_matrix(confusion_mtx, classes = range(10)) "
      ],
      "metadata": {
        "colab": {
          "base_uri": "https://localhost:8080/",
          "height": 310
        },
        "id": "HazfMa_I1X2E",
        "outputId": "dbd04859-0dc9-43b9-ff9d-337f80f5d47a"
      },
      "execution_count": 210,
      "outputs": [
        {
          "output_type": "display_data",
          "data": {
            "text/plain": [
              "<Figure size 432x288 with 2 Axes>"
            ],
            "image/png": "[encoded data removed]"
          },
          "metadata": {}
        }
      ]
    }
  ]
}